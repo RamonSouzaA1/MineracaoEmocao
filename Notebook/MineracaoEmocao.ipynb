{
 "cells": [
  {
   "cell_type": "markdown",
   "metadata": {},
   "source": [
    "<h1>Mineração de Emoção em Textos com Python e NLTK<h1>"
   ]
  },
  {
   "cell_type": "code",
   "execution_count": 264,
   "metadata": {},
   "outputs": [],
   "source": [
    "import nltk"
   ]
  },
  {
   "cell_type": "markdown",
   "metadata": {},
   "source": [
    "Será utilizada uma base de treinamento com 168 frases, 50% de cada: negativa e positiva "
   ]
  },
  {
   "cell_type": "code",
   "execution_count": 265,
   "metadata": {},
   "outputs": [],
   "source": [
    "basetreinamento = [\n",
    "('ele a feriu profundamente','negativa'),\n",
    "('vou despejar minha cólera em você','negativa'),\n",
    "('me sinto atormentado','negativa'),\n",
    "('não me contrarie','negativa'),\n",
    "('vou destruir tudo  que foi construído','negativa'),\n",
    "('não consigo terminar este trabalho, e muito frustrante','negativa'),\n",
    "('me frustra a sua presença aqui','negativa'),\n",
    "('esta comida me parece muito ruim','negativa'),\n",
    "('você me destrói','negativa'),\n",
    "('estamos separados','negativa'),\n",
    "('estou odiando este vestido','negativa'),\n",
    "('não pude comprar meu celular hoje','negativa'),\n",
    "('ela e uma garota ruim','negativa'),\n",
    "('estivemos em um show horroroso','negativa'),\n",
    "('o ingresso estava muito caro','negativa'),\n",
    "('se eu estragar tudo vai por água a baixo','negativa'),\n",
    "('não possuo dinheiro algum','negativa'),\n",
    "('sou muito pobre','negativa'),\n",
    "('vai prejudicar a todos esta nova medida','negativa'),\n",
    "('ficou ridículo','negativa'),\n",
    "('este sapato esta muito apertado','negativa'),\n",
    "('a musica e uma ofensa aos meus ouvidos','negativa'),\n",
    "('não consigo terminar uma tarefa muito difícil','negativa'),\n",
    "('reprovei em minha graduação','negativa'),\n",
    "('estou muito chateado com tudo','negativa'),\n",
    "('eu odeio em você','negativa'),\n",
    "('e um desprazer conhecê-lo','negativa'),\n",
    "('estou desperdiçando minhas ferias','negativa'),\n",
    "('e muito ruim este jogo','negativa'),\n",
    "('vamos ter muito rancor pela frente','negativa'),\n",
    "('não achei que seria tão terrível','negativa'),\n",
    "('vou vetar o orçamento ao cliente','negativa'),\n",
    "('meus pais não consentiram nosso casamento','negativa'),\n",
    "('eu odiei este perfume','negativa'),\n",
    "('seu descaso e frustrante','negativa'),\n",
    "('me sinto completamente amarga','negativa'),\n",
    "('desprezo muito o seu trabalho','negativa'),\n",
    "('estamos descontentes por nossa família','negativa'),\n",
    "('vou infernizar a sua empresa','negativa'),\n",
    "('estou furioso com estes valores','negativa'),\n",
    "('obrigaram o rapaz a sair','negativa'),\n",
    "('como ele pode deixar de lado?','negativa'),\n",
    "('são apenas injurias sobre mim','negativa'),\n",
    "('estou enfurecido com a situação dessa empresa','negativa'),\n",
    "('estou com o diabo no corpo','negativa'),\n",
    "('isso foi diabólico','negativa'),\n",
    "('tenho aversão à gente chata','negativa'),\n",
    "('não vou perdoar sua traição','negativa'),\n",
    "('esse dinheiro sujo e corrupto','negativa'),\n",
    "('eles me crucificam o tempo todo','negativa'),\n",
    "('eu vou enlouquecer com todo este barulho','negativa'),\n",
    "('não agüento todo esse assedio','negativa'),\n",
    "('cólera do dragão','negativa'),\n",
    "('isso e ridículo!','negativa'),\n",
    "('da próxima vez, vou inventar tudo sozinho','negativa'),\n",
    "('seus tolos! deixaram ele escapar!','negativa'),\n",
    "('jamais te perdoarei','negativa'),\n",
    "('o que e isso? outra multa','negativa'),\n",
    "('você passou dos limites!','negativa'),\n",
    "('sente-se e cale a boca','negativa'),\n",
    "('ingratosvermesvocês me pagam!','negativa'),\n",
    "('saiam da dai, se não arranco vocês dai!','negativa'),\n",
    "('você já me causou problemas suficientes','negativa'),\n",
    "('isso foi a gota d’agua','negativa'),\n",
    "('o que você tem com isso?','negativa'),\n",
    "('não vejo a hora de me livrar de você','negativa'),\n",
    "('já entendi a jogada seus safados!','negativa'),\n",
    "('você não merece piedade','negativa'),\n",
    "('saia de perto de mim','negativa'),\n",
    "('suma daqui, ou arranco seu couro!','negativa'),\n",
    "('estou revoltado com essa situação','negativa'),\n",
    "('seu idiota!','negativa'),\n",
    "('não, eu não vou te emprestar dinheiro!','negativa'),\n",
    "('você não passa de um cafajeste! vai embora','negativa'),\n",
    "('pare de frescura e vá trabalhar','negativa'),\n",
    "('eles merecem uma lição','negativa'),\n",
    "('ainda estou muito bravo com você','negativa'),\n",
    "('eu preciso surrar aquela chantagista','negativa'),\n",
    "('olha o que você fez! derramou!','negativa'),\n",
    "('você está pedindo pra apanhar!','negativa'),\n",
    "('me deixa em paz!','negativa'),\n",
    "('morra maldito, morra!','negativa'),\n",
    "('você e mais irritante de perto','negativa'),\n",
    "('ate que enfim, não agüentava mais te esperar','negativa'),\n",
    "('eu quero meu dinheiro de volta agora!','negativa'),\n",
    "('eu odeio a escola!','negativa'),\n",
    "('vou fazer picadinho de você','negativa'),\n",
    "('detesto trabalhar no verão','negativa'),\n",
    "('quero minha comida, e quero agora!','negativa'),\n",
    "('melhor você recolher minhas compras agora!','negativa'),\n",
    "('quero descer agora sua maluca','negativa'),\n",
    "('vou reclamar com o gerente!','negativa'),\n",
    "('vai engolir o que disse!','negativa'),\n",
    "('ele me ridiculariza diante de todos','negativa'),\n",
    "('e bom fechar o bico','negativa'),\n",
    "('este trabalho e agradável','positiva'),\n",
    "('gosto de ficar no seu aconchego','positiva'),\n",
    "('eu sou admirada por muitos','positiva'),\n",
    "('adoro como você e','positiva'),\n",
    "('adoro seu cabelo macio','positiva'),\n",
    "('adoro a cor dos seus olhos','positiva'),\n",
    "('somo tão amáveis um com o outro','positiva'),\n",
    "('sinto uma grande afeição por ele','positiva'),\n",
    "('quero agradar meus filhos','positiva'),\n",
    "('me sinto completamente amado','positiva'),\n",
    "('eu amo você','positiva'),\n",
    "('que grande alivio','positiva'),\n",
    "('acho que me apaixonei','positiva'),\n",
    "('amar e maravilhoso','positiva'),\n",
    "('estou me sentindo muito animada','positiva'),\n",
    "('me sinto muito bem hoje','positiva'),\n",
    "('o dia esta muito bonito','positiva'),\n",
    "('as maravilhas do mundo','positiva'),\n",
    "('recebi muito carinho hoje do meus colegas','positiva'),\n",
    "('estou me sentindo reconfortada hoje','positiva'),\n",
    "('e muito bom estar com os amigos','positiva'),\n",
    "('estou muito contente com o resultado dos testes','positiva'),\n",
    "('você e um grande comediante','positiva'),\n",
    "('que bondade a sua em vir aqui','positiva'),\n",
    "('o amor e lindo','positiva'),\n",
    "('nossa amizade vai durar para sempre','positiva'),\n",
    "('estou eufórica com a noticia','positiva'),\n",
    "('ele e realmente fiel a mim','positiva'),\n",
    "('vou dar uma grande festa para comemorar meu aniversário','positiva'),\n",
    "('graças a deus que eu enxerguei o certo','positiva'),\n",
    "('essa e a melhor escolhas de todas','positiva'),\n",
    "('o mais incrível e você minha bela','positiva'),\n",
    "('e tão engraçado tentar explicar','positiva'),\n",
    "('e emocionante estar neste lugar','positiva'),\n",
    "('estou loucamente apaixonada','positiva'),\n",
    "('eu nunca tive duvidas','positiva'),\n",
    "('eu sinto o sol sempre que você esta por perto','positiva'),\n",
    "('eu estou sorrindo de orelha a orelha','positiva'),\n",
    "('finalmente você colocou meu amor em primeiro lugar','positiva'),\n",
    "('seu amor e brilhante','positiva'),\n",
    "('você me traz de volta a vida','positiva'),\n",
    "('você e como um sonho doce','positiva'),\n",
    "('adoro este doce de frutas','positiva'),\n",
    "('meu suco favorito','positiva'),\n",
    "('estou agradecida pela ajuda','positiva'),\n",
    "('e um enorme prazer ter você em nossa equipe','positiva'),\n",
    "('trabalhar em equipe e o melhor','positiva'),\n",
    "('me sinto flutuando no ar','positiva'),\n",
    "('a brisa esta agradável hoje','positiva'),\n",
    "('ótimo e compatível','positiva'),\n",
    "('o órgão e compatível com o paciente','positiva'),\n",
    "('estou contente fui aceita na faculdade','positiva'),\n",
    "('fui aprovada no meu exame','positiva'),\n",
    "('fui beneficiada pela minha empresa','positiva'),\n",
    "('eu sou muito cativante','positiva'),\n",
    "('estou contente com o apoio','positiva'),\n",
    "('como este lugar e confortável','positiva'),\n",
    "('e bom estar quente neste frio','positiva'),\n",
    "('um elogio nunca e demais','positiva'),\n",
    "('vou te chamar para comemorar','positiva'),\n",
    "('sou muito grata a você','positiva'),\n",
    "('me dedico muito naquilo que faço','positiva'),\n",
    "('estou completamente apaixonada ','positiva'),\n",
    "('vamos agitar essa noite ','positiva'),\n",
    "('você significa muito para mim','positiva'),\n",
    "('finalmente completei a minha coleção, maravilhoso','positiva'),\n",
    "('satisfatoriamente eu anuncio o vencedor dos jogos','positiva'),\n",
    "('você me atrai facilmente ','positiva'),\n",
    "('sinto-me viva ','positiva'),\n",
    "('sinto-me em paz ','positiva'),\n",
    "('estamos tendo muito lucro','positiva'),\n",
    "('muito bem esta tudo em ordem agora ','positiva'),\n",
    "('podemos arrumar um emprego juntos ','positiva'),\n",
    "('o amor e abundante','positiva'),\n",
    "('nossa como você e charmoso querido ','positiva'),\n",
    "('sou querida pelos meu amigos','positiva'),\n",
    "('seja cuidadoso com os meus sentimentos','positiva'),\n",
    "('estou comovido com tamanha caridade','positiva'),\n",
    "('que alegria ter vocês aqui ','positiva'),\n",
    "('vamos aplaudir o vencedor ','positiva'),\n",
    "('palmas para a aniversariante','positiva'),\n",
    "('desejo a você tudo de bom','positiva'),\n",
    "('hora de apreciar um bom vinho','positiva'),\n",
    "('maravilhoso jogo amistoso','positiva'),\n",
    "('estamos muito felizes juntos','positiva'),\n",
    "('estou tão animada com os preparativos para o casamento','positiva'),\n",
    "('você será muito amado meu filho','positiva'),\n",
    "('os apaixonados são maravilhosos','positiva'),\n",
    "('esta comida me parece muito atraente','positiva'),\n",
    "('você me completa','positiva'),\n",
    "('poderemos completar o projeto hoje!','positiva'),\n",
    "('estamos namorando','positiva'),\n",
    "('estou namorando este vestido a um tempo','positiva'),\n",
    "('pude comprar meu celular hoje','positiva'),\n",
    "('estivemos em um ótimo show','positiva')]"
   ]
  },
  {
   "cell_type": "markdown",
   "metadata": {},
   "source": [
    "E uma base de testes com 50 frases, 50% de cada: negativa e positiva, para avaliação do algoritmo"
   ]
  },
  {
   "cell_type": "code",
   "execution_count": 266,
   "metadata": {},
   "outputs": [],
   "source": [
    "baseteste =[('não precisei pagar o ingresso','positiva'),\n",
    "('se eu ajeitar tudo fica bem','positiva'),\n",
    "('e benefico para todos esta nova medida','positiva'),\n",
    "('ficou lindo','positiva'),\n",
    "('achei esse sapato muito simpático','positiva'),\n",
    "('estou ansiosa pela sua chegada','positiva'),\n",
    "('delicadamente ele a colocou para dormir','positiva'),\n",
    "('a musica e linda','positiva'),\n",
    "('conclui uma tarefa muito difícil','positiva'),\n",
    "('conclui minha graduação','positiva'),\n",
    "('estou muito contente com tudo','positiva'),\n",
    "('eu confio em você','positiva'),\n",
    "('e um prazer conhecê-lo','positiva'),\n",
    "('o coleguismo de vocês e animador','positiva'),\n",
    "('estou aproveitando as ferias','positiva'),\n",
    "('vamos aproveitar as ferias','positiva'),\n",
    "('e muito divertido este jogo','positiva'),\n",
    "('vamos ter muita diversão','positiva'),\n",
    "('não achei que me divertiria tanto assim','positiva'),\n",
    "('eu adorei este perfume','positiva'),\n",
    "('não me preocupo com o que aconteceu','positiva'),\n",
    "('me sinto completamente segura','positiva'),\n",
    "('estimo muito o seu trabalho','positiva'),\n",
    "('concretizamos nossa ideia','positiva'),\n",
    "('nosso ideal foi alcançado','positiva'),\n",
    "('não quero mais saber de você','negativa'),\n",
    "('vejo você na cadeia safado!','negativa'),\n",
    "('agora vou ter que pagar mais isso ainda!','negativa'),\n",
    "('saia logo do banheiro!','negativa'),\n",
    "('suba já para o seu quarto!','negativa'),\n",
    "('eu falei para calar a boca seu idiota!','negativa'),\n",
    "('eu disse para você cair fora!','negativa'),\n",
    "('não agüento mais que fiquem me culpando sem motivo!','negativa'),\n",
    "('não suporto olhar na sua cara!','negativa'),\n",
    "('eu não sou um elefante','negativa'),\n",
    "('juro que se olhar pra mim eu o mato!','negativa'),\n",
    "('chega, não quero saber mais deste assunto','negativa'),\n",
    "('como pode ser tão burro?','negativa'),\n",
    "('não me aborreça seu moleque','negativa'),\n",
    "('não quero me aborrecer com estas bobagens','negativa'),\n",
    "('ele me agrediu!','negativa'),\n",
    "('eu amaldiçôo você e a sua família','negativa'),\n",
    "('não me amole','negativa'),\n",
    "('não venha me amolar','negativa'),\n",
    "('isso tudo e uma tormenta','negativa'),\n",
    "('eu vou matar você','negativa'),\n",
    "('para que simplificar se você pode sempre complicar','negativa'),\n",
    "('isso esta me enlouquecendo','negativa'),\n",
    "('estou furiosa com você','negativa'),\n",
    "('isso mesmo fique furioso','negativa')]"
   ]
  },
  {
   "cell_type": "markdown",
   "metadata": {},
   "source": [
    "A base de stopwords utilizada será a existente do NLTK. Stopwords são palavras que não são relevantes para a análise"
   ]
  },
  {
   "cell_type": "code",
   "execution_count": 267,
   "metadata": {},
   "outputs": [],
   "source": [
    "stopwordsnltk = nltk.corpus.stopwords.words('portuguese')"
   ]
  },
  {
   "cell_type": "markdown",
   "metadata": {},
   "source": [
    "A próxima função remove as stopwords das frases da base"
   ]
  },
  {
   "cell_type": "code",
   "execution_count": 268,
   "metadata": {},
   "outputs": [],
   "source": [
    "def removestopwords(texto):\n",
    "    frases=[]\n",
    "    for (palavras, emocao) in texto:\n",
    "        semstop = [p for p in palavras.split() if p not in stopwordsnltk]\n",
    "        frases.append((semstop, emocao))\n",
    "    return frases"
   ]
  },
  {
   "cell_type": "markdown",
   "metadata": {},
   "source": [
    "Em seguida, é removido o radical das palavras, processo chamado de stemming, e armazenado na variável frasescomstemming. Esse processo tem a finalidade de reduzir o tamanho das palavras para armazenamento.\n",
    "O processo é feito tanto para a base treinamento, quanto para a base de teste."
   ]
  },
  {
   "cell_type": "code",
   "execution_count": 269,
   "metadata": {},
   "outputs": [],
   "source": [
    "def aplicastemmer(texto):\n",
    "    stemmer = nltk.stem.RSLPStemmer()\n",
    "    frasesstemming = []\n",
    "    for [palavras, emocao] in texto:\n",
    "        comstemming = [str(stemmer.stem(p)) for p in palavras.split() if p not in stopwordsnltk]\n",
    "        frasesstemming.append((comstemming, emocao))\n",
    "    return frasesstemming\n",
    "\n",
    "frasescomstemmingtreinamento = aplicastemmer(basetreinamento)\n",
    "frasescomstemmingteste = aplicastemmer(baseteste)"
   ]
  },
  {
   "cell_type": "markdown",
   "metadata": {},
   "source": [
    "Para listar todas as palavras da base, usamos essa função, sem as stopwords e com stemming "
   ]
  },
  {
   "cell_type": "code",
   "execution_count": 270,
   "metadata": {},
   "outputs": [],
   "source": [
    "def buscapalavras(frases):\n",
    "\ttodaspalavras = []\n",
    "\tfor (palavras, emocao) in frases:\n",
    "\t\ttodaspalavras.extend(palavras)\n",
    "\treturn todaspalavras\n",
    "\n",
    "palavras = buscapalavras(frasescomstemmingtreinamento)\n",
    "palavrasTeste = buscapalavras(frasescomstemmingteste)\n",
    "\n",
    "#print(palavras)"
   ]
  },
  {
   "cell_type": "markdown",
   "metadata": {},
   "source": [
    "Extração das palavras unicas existentes na base de dados"
   ]
  },
  {
   "cell_type": "code",
   "execution_count": 271,
   "metadata": {},
   "outputs": [],
   "source": [
    "def buscafrequencia(palavras):\n",
    "\tpalavras = nltk.FreqDist(palavras)\n",
    "\treturn palavras\n",
    "\n",
    "frequencia = buscafrequencia(palavras)\n",
    "frequenciaTeste = buscafrequencia(palavrasTeste)\n",
    "#print(frequencia.most_common(50))\n",
    "\n",
    "def buscapalavrasunicas(frequencia):\n",
    "\tfreq = frequencia.keys()\n",
    "\treturn freq\n",
    "\t\n",
    "palavrasunicas = buscapalavrasunicas(frequencia)\n",
    "palavrasunicasTeste = buscapalavrasunicas(frequenciaTeste)\n",
    "#print(palavrasunicas)"
   ]
  },
  {
   "cell_type": "markdown",
   "metadata": {},
   "source": [
    "Extração das palavras de cada frase"
   ]
  },
  {
   "cell_type": "code",
   "execution_count": 272,
   "metadata": {},
   "outputs": [],
   "source": [
    "def extratorpalavras(documento):\n",
    "    doc = set(documento)\n",
    "    caracteristicas = {}\n",
    "    for palavras in palavrasunicas:\n",
    "        caracteristicas['%s' % palavras] = (palavras in doc)\n",
    "    return caracteristicas\n",
    "\n",
    "caracteristicasfrase = extratorpalavras(['am', 'nov', 'dia'])\n",
    "#print(caracteristicasfrase)"
   ]
  },
  {
   "cell_type": "markdown",
   "metadata": {},
   "source": [
    "Extração das palavras de todas as frases (Usada na tabela de probabilidade)"
   ]
  },
  {
   "cell_type": "code",
   "execution_count": 273,
   "metadata": {},
   "outputs": [],
   "source": [
    "basecompleta = nltk.classify.apply_features(extratorpalavras, frasescomstemmingtreinamento)\n",
    "basecompletaTeste = nltk.classify.apply_features(extratorpalavras, frasescomstemmingteste)\n",
    "#print(basecompleta)"
   ]
  },
  {
   "cell_type": "markdown",
   "metadata": {},
   "source": [
    "Construção da tabela de probabilidade"
   ]
  },
  {
   "cell_type": "code",
   "execution_count": 274,
   "metadata": {},
   "outputs": [
    {
     "name": "stdout",
     "output_type": "stream",
     "text": [
      "Exibe os resultados possíveis: \n",
      "['negativa', 'positiva']\n",
      "Exibe as estatísticas sobre os dados da base. Ex: Quando dia = true, as chances de a frase ser categorizada como alegria é maior que medo.\n",
      "Most Informative Features\n",
      "                     vou = True           negati : positi =      4.2 : 1.0\n",
      "                     tod = True           negati : positi =      3.7 : 1.0\n",
      "                     hoj = True           positi : negati =      3.7 : 1.0\n",
      "                 complet = True           positi : negati =      3.7 : 1.0\n",
      "                     vai = True           negati : positi =      3.0 : 1.0\n",
      "None\n"
     ]
    }
   ],
   "source": [
    "classificador = nltk.NaiveBayesClassifier.train(basecompleta)\n",
    "print(\"Exibe os resultados possíveis: \")\n",
    "print(classificador.labels())\n",
    "print(\"Exibe as estatísticas sobre os dados da base. Ex: Quando dia = true, as chances de a frase ser categorizada como alegria é maior que medo.\")\n",
    "print(classificador.show_most_informative_features(5))"
   ]
  },
  {
   "cell_type": "markdown",
   "metadata": {},
   "source": [
    "Agora, para avaliar a precisão do algoritmo"
   ]
  },
  {
   "cell_type": "code",
   "execution_count": 275,
   "metadata": {},
   "outputs": [
    {
     "name": "stdout",
     "output_type": "stream",
     "text": [
      "Precisão do algoritmo: 60.000000 %\n"
     ]
    }
   ],
   "source": [
    "precisao = nltk.classify.accuracy(classificador, basecompletaTeste) * 100\n",
    "print(\"Precisão do algoritmo: %f %%\" % precisao)"
   ]
  },
  {
   "cell_type": "markdown",
   "metadata": {},
   "source": [
    "Gerando e imprimindo a matiz de confusão"
   ]
  },
  {
   "cell_type": "code",
   "execution_count": 276,
   "metadata": {},
   "outputs": [
    {
     "name": "stdout",
     "output_type": "stream",
     "text": [
      "         |  n  p |\n",
      "         |  e  o |\n",
      "         |  g  s |\n",
      "         |  a  i |\n",
      "         |  t  t |\n",
      "         |  i  i |\n",
      "         |  v  v |\n",
      "         |  a  a |\n",
      "---------+-------+\n",
      "negativa |<12>13 |\n",
      "positiva |  7<18>|\n",
      "---------+-------+\n",
      "(row = reference; col = test)\n",
      "\n"
     ]
    }
   ],
   "source": [
    "from nltk.metrics import ConfusionMatrix\n",
    "esperado = []\n",
    "previsto = []\n",
    "for (frase, classe) in basecompletaTeste:\n",
    "\tresultado = classificador.classify(frase)\n",
    "\tprevisto.append(resultado)\n",
    "\tesperado.append(classe)\n",
    "\t\n",
    "matriz = ConfusionMatrix(esperado, previsto)\n",
    "print(matriz)"
   ]
  },
  {
   "cell_type": "markdown",
   "metadata": {},
   "source": [
    "Classificando uma frase teste. Ao aplicar no classificador, já realiza a remoção das stopwords."
   ]
  },
  {
   "cell_type": "code",
   "execution_count": 277,
   "metadata": {},
   "outputs": [
    {
     "name": "stdout",
     "output_type": "stream",
     "text": [
      "Frase teste: é com prazer que recebo em casa\n",
      "Stemming: ['é', 'com', 'praz', 'que', 'receb', 'em', 'cas']\n",
      "Sentimento: positiva\n",
      "negativa: 9.475830%\n",
      "positiva: 90.524170%\n"
     ]
    }
   ],
   "source": [
    "teste = 'é com prazer que recebo em casa'\n",
    "print(\"Frase teste: %s\" % teste)\n",
    "testestemming = []\n",
    "stemmer = nltk.stem.RSLPStemmer()\n",
    "for (palavras) in teste.split():\n",
    "\tcomstem = [p for p in palavras.split()]\n",
    "\ttestestemming.append(str(stemmer.stem(comstem[0])))\n",
    "print(\"Stemming: %s\" %testestemming)\n",
    "\n",
    "novo = extratorpalavras(testestemming)\n",
    "#print(novo)\n",
    "\n",
    "print(\"Sentimento: %s\" % classificador.classify(novo))\n",
    "distribuicao = classificador.prob_classify(novo)\n",
    "for classe in distribuicao.samples():\n",
    "    print(\"%s: %f%%\" % (classe, distribuicao.prob(classe)*100))"
   ]
  },
  {
   "cell_type": "code",
   "execution_count": null,
   "metadata": {},
   "outputs": [],
   "source": []
  },
  {
   "cell_type": "code",
   "execution_count": null,
   "metadata": {},
   "outputs": [],
   "source": []
  },
  {
   "cell_type": "code",
   "execution_count": null,
   "metadata": {},
   "outputs": [],
   "source": []
  }
 ],
 "metadata": {
  "kernelspec": {
   "display_name": "Python 3",
   "language": "python",
   "name": "python3"
  },
  "language_info": {
   "codemirror_mode": {
    "name": "ipython",
    "version": 3
   },
   "file_extension": ".py",
   "mimetype": "text/x-python",
   "name": "python",
   "nbconvert_exporter": "python",
   "pygments_lexer": "ipython3",
   "version": "3.7.0"
  }
 },
 "nbformat": 4,
 "nbformat_minor": 2
}
