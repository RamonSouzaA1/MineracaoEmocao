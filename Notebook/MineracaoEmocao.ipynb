{
 "cells": [
  {
   "cell_type": "markdown",
   "metadata": {},
   "source": [
    "<h1>Mineração de Emoção em Textos com Python e NLTK<h1>"
   ]
  },
  {
   "cell_type": "code",
   "execution_count": 100,
   "metadata": {},
   "outputs": [],
   "source": [
    "import nltk"
   ]
  },
  {
   "cell_type": "markdown",
   "metadata": {},
   "source": [
    "Será utilizada uma base de treinamento com 168 frases, 50% de cada: negativa e positiva "
   ]
  },
  {
   "cell_type": "code",
   "execution_count": 101,
   "metadata": {},
   "outputs": [],
   "source": [
    "basetreinamento = [\n",
    "('essa faculdade é ótima','positiva'),\n",
    "('esse lugar é maravilhoso','positiva'),\n",
    "('eu amo estar nesse lugar','positiva'),\n",
    "('a escola é muito boa','positiva'),\n",
    "('eu sinto saudades da época que eu estudei la','positiva'),\n",
    "('agregou muito conhecimento em minha vida','positiva'),\n",
    "('a escola me preparou para o futuro','positiva'),\n",
    "('Muito boa, acolhedora, sabendo ir nos lugares certos, você consegue resolver seus problemas','positiva'),\n",
    "('simplesmente amei minha experiência de ter ido nesta universidade recomendo super','positiva'), \n",
    "('me abriu portas profissionalmente nas instituições de ensino ','positiva'),\n",
    "('Agradeço à todos, professores e colegas de curso pelo apoio na minha formação acadêmica e amizade recebidos até hoje.','positiva'),\n",
    "('é uma instituição do qual estou adorando fazer parte','positiva'),\n",
    "('Adoro passear com meu filho, aconchegante, acolhedor e tem muita natureza a ser vista','positiva'),\n",
    "('amar e maravilhoso','positiva'),\n",
    "('estou me sentindo muito animada','positiva'),\n",
    "('me sinto muito bem hoje','positiva'),\n",
    "('Não há lugar no mundo que eu admire, respeite e celebre mais do que essa universidade.','positiva'),\n",
    "('Tenho orgulho de trabalhar a dez anos','positiva'),\n",
    "('Só tenho elogios estima e consideração','positiva'),\n",
    "('Tenho muito orgulho de minha filha fazer parte desta instituição que será responsável pela formação dela naquilo que ela sonhou','positiva'),\n",
    "('Uma das melhores do Brasil.','positiva'),\n",
    "('é uma instituição da qual muito me orgulho e onde pude adquirir uma formação diversa e de qualidade','positiva'),\n",
    "('Minha segunda casa','positiva'),\n",
    "('Escola brilhante com sua educação de inovadora','positiva'),\n",
    "('o amor e lindo','positiva'),\n",
    "('Amo essa faculdade de paixão','positiva'),\n",
    "('Foi a minha casa por 5 anos, fui educada, amada e principalmente respeitada','positiva'),\n",
    "('ele e realmente fiel a mim','positiva'),\n",
    "('Local de formação que ultrapassa a sala de aula','positiva'),\n",
    "('Muito orgulho de ter me formado numa universidade tão digna e tão plural','positiva'),\n",
    "('Fico feliz de ver um ambiente escolar livre de preconceito,inclusivo com diferentes classes sociais','positiva'),\n",
    "('Minha eterna gratidão a este lugar que me fez profissional e um ser humano melhor','positiva'),\n",
    "('Universidade com excelência no ensino, inovadora e que respeita a diversidade','positiva'),\n",
    "('Tenho muito carinho por essa escola.','positiva'),\n",
    "('Sou muito grata pela formação que tive nesta instituição','positiva'),\n",
    "('Formando pessoas maravilhosas','positiva'),\n",
    "('Expandiu meus horizontes','positiva'),\n",
    "('Um dos meus lugares favoritos do mundo','positiva'),\n",
    "('Parabéns pelos docentes e pela infraestrutura','positiva'),\n",
    "('Além da qualidade de ensino, nela descobri um Universo de conhecimentos','positiva'),\n",
    "('Lugar excelente, com boa infraestrutura, ótimos profissionais','positiva'),\n",
    "('você e como um sonho doce','positiva'),\n",
    "('Um sonho da fase introdutória que realizou-se ao iniciar meus estudos aqui na escola Expectativas reais','positiva'),\n",
    "('Minha vida é o que é hoje graças a esta casa','positiva'),\n",
    "('estou agradecida pela ajuda','positiva'),\n",
    "('e um enorme prazer ter você em nossa equipe','positiva'),\n",
    "('trabalhar em equipe e o melhor','positiva'),\n",
    "('podemos descobrir o quanto somos únicos e magníficos neste mundo','positiva'),\n",
    "('Além de excelentes profissionais ainda contamos com muita solidariedade de todos','positiva'),\n",
    "('ótimo e compatível','positiva'),\n",
    "('o órgão e compatível com o paciente','positiva'),\n",
    "('estou contente fui aceita na faculdade','positiva'),\n",
    "('fui aprovada no meu exame','positiva'),\n",
    "('fui beneficiada pela minha empresa','positiva'),\n",
    "('eu sou muito cativante','positiva'),\n",
    "('estou contente com o apoio','positiva'),\n",
    "('como este lugar e confortável','positiva'),\n",
    "('e bom estar quente neste frio','positiva'),\n",
    "('um elogio nunca e demais','positiva'),\n",
    "('vou te chamar para comemorar','positiva'),\n",
    "('sou muito grata a você','positiva'),\n",
    "('me dedico muito naquilo que faço','positiva'),\n",
    "('estou completamente apaixonada ','positiva'),\n",
    "('vamos agitar essa noite ','positiva'),\n",
    "('você significa muito para mim','positiva'),\n",
    "('finalmente completei a minha coleção, maravilhoso','positiva'),\n",
    "('satisfatoriamente eu anuncio o vencedor dos jogos','positiva'),\n",
    "('você me atrai facilmente ','positiva'),\n",
    "('sinto-me viva ','positiva'),\n",
    "('sinto-me em paz ','positiva'),\n",
    "('estamos tendo muito lucro','positiva'),\n",
    "('muito bem esta tudo em ordem agora ','positiva'),\n",
    "('podemos arrumar um emprego juntos ','positiva'),\n",
    "('o amor e abundante','positiva'),\n",
    "('nossa como você e charmoso querido ','positiva'),\n",
    "('sou querida pelos meu amigos','positiva'),\n",
    "('seja cuidadoso com os meus sentimentos','positiva'),\n",
    "('estou comovido com tamanha caridade','positiva'),\n",
    "('que alegria ter vocês aqui ','positiva'),\n",
    "('vamos aplaudir o vencedor ','positiva'),\n",
    "('palmas para a aniversariante','positiva'),\n",
    "('desejo a você tudo de bom','positiva'),\n",
    "('hora de apreciar um bom vinho','positiva'),\n",
    "('maravilhoso jogo amistoso','positiva'),\n",
    "('estou profundamente triste com esse lugar','negativa'),\n",
    "('esse lugar nao e acessivel','negativa'),\n",
    "('essa faculdade e um lixo','negativa'),\n",
    "('essa escola e horrivel','negativa'),\n",
    "('esse lugar apoia o machismo e a cultura do estupro','negativa'),\n",
    "('não consigo terminar este trabalho, e muito frustrante','negativa'),\n",
    "('uma aluna surda impossibilitada de assistir as aulas','negativa'),\n",
    "('esta comida me parece muito ruim','negativa'),\n",
    "('esse lugar esta cheio de vandalismo','negativa'),\n",
    "('estao todos brigando','negativa'),\n",
    "('odeio essa instituicao','negativa'),\n",
    "('eles sao covardes','negativa'),\n",
    "('ela e uma garota ruim','negativa'),\n",
    "('estivemos em um show horroroso','negativa'),\n",
    "('o ingresso estava muito caro','negativa'),\n",
    "('eles estragaram todo o trabalho','negativa'),\n",
    "('e um desgosto estar aqui','negativa'),\n",
    "('estamos profundamente tristes com a situacao','negativa'),\n",
    "('vai prejudicar a todos esta nova medida','negativa'),\n",
    "('ficou ridículo','negativa'),\n",
    "('esse lugar esta muito sujo','negativa'),\n",
    "('foram assaltados a luz do dia','negativa'),\n",
    "('as provas foram dificeis','negativa'),\n",
    "('reprovei em minha graduação','negativa'),\n",
    "('estou muito chateado com tudo','negativa'),\n",
    "('eu odeio em você','negativa'),\n",
    "('e um desprazer conhecê-lo','negativa'),\n",
    "('estou desperdiçando minhas ferias','negativa'),\n",
    "('e muito ruim este jogo','negativa'),\n",
    "('vamos ter muito rancor pela frente','negativa'),\n",
    "('não achei que seria tão terrível','negativa'),\n",
    "('eles foram agredidos e roubaram foram assaltados','negativa'),\n",
    "('bateram em nosso carro','negativa'),\n",
    "('eu odiei este perfume','negativa'),\n",
    "('seu descaso e frustrante','negativa'),\n",
    "('e tudo muito burocratico','negativa'),\n",
    "('demoraram muito para me atender','negativa'),\n",
    "('estamos tristes por nossa família','negativa'),\n",
    "('vou infernizar a sua empresa','negativa'),\n",
    "('estou furioso com estes valores','negativa'),\n",
    "('obrigaram o rapaz a sair','negativa'),\n",
    "('nao cumpre os prazos e deixa milhares de estudantes sem nenhuma segurança quanto a sua permanência na graduação','negativa'),\n",
    "('Com todos os vacilos dos administradores da instituicao a única coisa que posso dizer é que ta um lixo','negativa'),\n",
    "('muito mal organizada e sem prioridade aos alunos nas decisões administrativas','negativa'),\n",
    "('estou com o diabo no corpo','negativa'),\n",
    "('está falhando em estrutura para os estudantes','negativa'),\n",
    "('Atrasa o apoio, dentre outras precariedades, muito ruim reitoria, só os professor e trabalhador salva.','negativa'),\n",
    "('não vou perdoar sua traição','negativa'),\n",
    "('esse dinheiro sujo e corrupto','negativa'),\n",
    "('eles me crucificam o tempo todo','negativa'),\n",
    "('eu vou enlouquecer com todo este barulho','negativa'),\n",
    "('não agüento todo esse assedio','negativa'),\n",
    "('estava tudo sujo','negativa'),\n",
    "('nao tinha segurança e estava tudo uma bagunça','negativa'),\n",
    "('da próxima vez, vou inventar tudo sozinho','negativa'),\n",
    "('voce e muito burro','negativa'),\n",
    "('jamais te perdoarei','negativa'),\n",
    "('foram multados com a velocidade','negativa'),\n",
    "('houve desvio de dinheiro nas obras','negativa'),\n",
    "('sente-se e cale a boca','negativa'),\n",
    "('ingratos vermes vocês me pagam!','negativa'),\n",
    "('vamos sair antes que seja tarde','negativa'),\n",
    "('você já me causou problemas suficientes','negativa'),\n",
    "('isso foi a gota d’agua','negativa'),\n",
    "('o que você tem com isso?','negativa'),\n",
    "('não vejo a hora de me livrar de você','negativa'),\n",
    "('já entendi a jogada seus safados!','negativa'),\n",
    "('você não merece piedade','negativa'),\n",
    "('saia de perto de mim','negativa'),\n",
    "('suma daqui, ou arranco seu couro!','negativa'),\n",
    "('estou revoltado com essa situação','negativa'),\n",
    "('seu idiota!','negativa'),\n",
    "('nao estamos contentes com a situacao','negativa'),\n",
    "('va embora, voce ja passou dos limites','negativa'),\n",
    "('pare de frescura e vá trabalhar','negativa'),\n",
    "('ainda tenho muita coisa para fazer','negativa'),\n",
    "('ainda estou muito bravo com você','negativa'),\n",
    "('eu preciso surrar aquela chantagista','negativa'),\n",
    "('vou te bater ate voce chorar','negativa'),\n",
    "('você está pedindo pra apanhar!','negativa'),\n",
    "('me deixa em paz!','negativa'),\n",
    "('morra maldito, morra!','negativa'),\n",
    "('você e mais irritante de perto','negativa'),\n",
    "('e bom fechar o bico','negativa')]"
   ]
  },
  {
   "cell_type": "markdown",
   "metadata": {},
   "source": [
    "E uma base de testes com 50 frases, 50% de cada: negativa e positiva, para avaliação do algoritmo"
   ]
  },
  {
   "cell_type": "code",
   "execution_count": 102,
   "metadata": {},
   "outputs": [],
   "source": [
    "baseteste =[('Instituto de excelência em educação. a melhor escola da cidade','positiva'),\n",
    "('Instituto maravilhoso o ensino alta qualidade e profissonalizante,cursos maravilhoso e os professores muito bom atencioso','positiva'),\n",
    "('melhores anos da minha vida acadêmica','positiva'),\n",
    "('ficou lindo','positiva'),\n",
    "('professores dedicados ensino de alta qualidade','positiva'),\n",
    "('Eu faço parte desta família','positiva'),\n",
    "('Ótima instituição, professores, funcionários e alunos','positiva'),\n",
    "('Tenho a honra de ter passado por essa Instituição e fazer parte','positiva'),\n",
    "('conclui uma tarefa muito difícil','positiva'),\n",
    "('Orgulhosa de fazer parte desta história','positiva'),\n",
    "('Amo esse lugar e amo o que eu estudo','positiva'),\n",
    "('eu confio em você','positiva'),\n",
    "('Melhor epoca da minha vida','positiva'),\n",
    "('Sinto saudades e orgulho de ter feito parte desta família!','positiva'),\n",
    "('Formou gerações de profissionais de valor','positiva'),\n",
    "('Instituição excelente, tenho orgulho de ter passado por aqui, Muita saudade','positiva'),\n",
    "('Uma instituição de ensino público de qualidade, democrática e de referência.','positiva'),\n",
    "('e um dos melhores lugares para estudar','positiva'),\n",
    "('foi muito divertido tudo isso','positiva'),\n",
    "('eu adorei este lugar','positiva'),\n",
    "('era tudo lindo e maravilhoso','positiva'),\n",
    "('me sinto completamente segura','positiva'),\n",
    "('o trabalho ficou perfeito','positiva'),\n",
    "('tudo que vivi aqui foi maravilhoso','positiva'),\n",
    "('todos os trabalhos receberam as melhores notas','positiva'),\n",
    "('acessibilidade e precaria nesse lugar','negativa'),\n",
    "('tiveram que lavar pois estava tudo muito sujo','negativa'),\n",
    "('o banheiro estava um nojo','negativa'),\n",
    "('a escola e um lixo','negativa'),\n",
    "('odeio os professores daqui','negativa'),\n",
    "('todos vao morrer','negativa'),\n",
    "('eu disse para você cair fora!','negativa'),\n",
    "('nao quero mais viver','negativa'),\n",
    "('ela era muito feia','negativa'),\n",
    "('ela estava muito suja','negativa'),\n",
    "('tinha lixo por todo lugar','negativa'),\n",
    "('era uma aberracao','negativa'),\n",
    "('diabos como pode ter acontecido isso','negativa'),\n",
    "('foi uma tragedia','negativa'),\n",
    "('bateram no menino enquanto ele tentava correr','negativa'),\n",
    "('ele me agrediu!','negativa'),\n",
    "('eu amaldiçôo você e a sua família','negativa'),\n",
    "('não me amole','negativa'),\n",
    "('não venha me amolar','negativa'),\n",
    "('isso tudo e uma tormenta','negativa'),\n",
    "('eles roubaram o carro e o celular','negativa'),\n",
    "('bateram muito naquele inocente','negativa'),\n",
    "('isso esta me enlouquecendo','negativa'),\n",
    "('estou furiosa com você','negativa'),\n",
    "('todos estavam brigando','negativa')]"
   ]
  },
  {
   "cell_type": "markdown",
   "metadata": {},
   "source": [
    "A base de stopwords utilizada será a existente do NLTK. Stopwords são palavras que não são relevantes para a análise"
   ]
  },
  {
   "cell_type": "code",
   "execution_count": 103,
   "metadata": {},
   "outputs": [],
   "source": [
    "stopwordsnltk = nltk.corpus.stopwords.words('portuguese')"
   ]
  },
  {
   "cell_type": "markdown",
   "metadata": {},
   "source": [
    "A próxima função remove as stopwords das frases da base"
   ]
  },
  {
   "cell_type": "code",
   "execution_count": 104,
   "metadata": {},
   "outputs": [],
   "source": [
    "def removestopwords(texto):\n",
    "    frases=[]\n",
    "    for (palavras, emocao) in texto:\n",
    "        semstop = [p for p in palavras.split() if p not in stopwordsnltk]\n",
    "        frases.append((semstop, emocao))\n",
    "    return frases"
   ]
  },
  {
   "cell_type": "markdown",
   "metadata": {},
   "source": [
    "Em seguida, é removido o radical das palavras, processo chamado de stemming, e armazenado na variável frasescomstemming. Esse processo tem a finalidade de reduzir o tamanho das palavras para armazenamento.\n",
    "O processo é feito tanto para a base treinamento, quanto para a base de teste."
   ]
  },
  {
   "cell_type": "code",
   "execution_count": 105,
   "metadata": {},
   "outputs": [],
   "source": [
    "def aplicastemmer(texto):\n",
    "    stemmer = nltk.stem.RSLPStemmer()\n",
    "    frasesstemming = []\n",
    "    for [palavras, emocao] in texto:\n",
    "        comstemming = [str(stemmer.stem(p)) for p in palavras.split() if p not in stopwordsnltk]\n",
    "        frasesstemming.append((comstemming, emocao))\n",
    "    return frasesstemming\n",
    "\n",
    "frasescomstemmingtreinamento = aplicastemmer(basetreinamento)\n",
    "frasescomstemmingteste = aplicastemmer(baseteste)"
   ]
  },
  {
   "cell_type": "markdown",
   "metadata": {},
   "source": [
    "Para listar todas as palavras da base, usamos essa função, sem as stopwords e com stemming "
   ]
  },
  {
   "cell_type": "code",
   "execution_count": 106,
   "metadata": {},
   "outputs": [],
   "source": [
    "def buscapalavras(frases):\n",
    "\ttodaspalavras = []\n",
    "\tfor (palavras, emocao) in frases:\n",
    "\t\ttodaspalavras.extend(palavras)\n",
    "\treturn todaspalavras\n",
    "\n",
    "palavras = buscapalavras(frasescomstemmingtreinamento)\n",
    "palavrasTeste = buscapalavras(frasescomstemmingteste)\n",
    "\n",
    "#print(palavras)"
   ]
  },
  {
   "cell_type": "markdown",
   "metadata": {},
   "source": [
    "Extração das palavras unicas existentes na base de dados"
   ]
  },
  {
   "cell_type": "code",
   "execution_count": 107,
   "metadata": {},
   "outputs": [],
   "source": [
    "def buscafrequencia(palavras):\n",
    "\tpalavras = nltk.FreqDist(palavras)\n",
    "\treturn palavras\n",
    "\n",
    "frequencia = buscafrequencia(palavras)\n",
    "frequenciaTeste = buscafrequencia(palavrasTeste)\n",
    "#print(frequencia.most_common(50))\n",
    "\n",
    "def buscapalavrasunicas(frequencia):\n",
    "\tfreq = frequencia.keys()\n",
    "\treturn freq\n",
    "\t\n",
    "palavrasunicas = buscapalavrasunicas(frequencia)\n",
    "palavrasunicasTeste = buscapalavrasunicas(frequenciaTeste)\n",
    "#print(palavrasunicas)"
   ]
  },
  {
   "cell_type": "markdown",
   "metadata": {},
   "source": [
    "Extração das palavras de cada frase"
   ]
  },
  {
   "cell_type": "code",
   "execution_count": 108,
   "metadata": {},
   "outputs": [],
   "source": [
    "def extratorpalavras(documento):\n",
    "    doc = set(documento)\n",
    "    caracteristicas = {}\n",
    "    for palavras in palavrasunicas:\n",
    "        caracteristicas['%s' % palavras] = (palavras in doc)\n",
    "    return caracteristicas\n",
    "\n",
    "caracteristicasfrase = extratorpalavras(['am', 'nov', 'dia'])\n",
    "#print(caracteristicasfrase)"
   ]
  },
  {
   "cell_type": "markdown",
   "metadata": {},
   "source": [
    "Extração das palavras de todas as frases (Usada na tabela de probabilidade)"
   ]
  },
  {
   "cell_type": "code",
   "execution_count": 109,
   "metadata": {},
   "outputs": [],
   "source": [
    "basecompleta = nltk.classify.apply_features(extratorpalavras, frasescomstemmingtreinamento)\n",
    "basecompletaTeste = nltk.classify.apply_features(extratorpalavras, frasescomstemmingteste)\n",
    "#print(basecompleta)"
   ]
  },
  {
   "cell_type": "markdown",
   "metadata": {},
   "source": [
    "Construção da tabela de probabilidade"
   ]
  },
  {
   "cell_type": "code",
   "execution_count": 110,
   "metadata": {},
   "outputs": [
    {
     "name": "stdout",
     "output_type": "stream",
     "text": [
      "Exibe os resultados possíveis: \n",
      "['positiva', 'negativa']\n",
      "Exibe as estatísticas sobre os dados da base. Ex: Quando dia = true, as chances de a frase ser categorizada como alegria é maior que medo.\n",
      "Most Informative Features\n",
      "                     tod = True           negati : positi =      5.0 : 1.0\n",
      "                       é = True           positi : negati =      4.3 : 1.0\n",
      "                     vou = True           negati : positi =      3.7 : 1.0\n",
      "                   escol = True           positi : negati =      3.7 : 1.0\n",
      "                    muit = True           positi : negati =      3.0 : 1.0\n",
      "None\n"
     ]
    }
   ],
   "source": [
    "classificador = nltk.NaiveBayesClassifier.train(basecompleta)\n",
    "print(\"Exibe os resultados possíveis: \")\n",
    "print(classificador.labels())\n",
    "print(\"Exibe as estatísticas sobre os dados da base. Ex: Quando dia = true, as chances de a frase ser categorizada como alegria é maior que medo.\")\n",
    "print(classificador.show_most_informative_features(5))"
   ]
  },
  {
   "cell_type": "markdown",
   "metadata": {},
   "source": [
    "Agora, para avaliar a precisão do algoritmo"
   ]
  },
  {
   "cell_type": "code",
   "execution_count": 111,
   "metadata": {},
   "outputs": [
    {
     "name": "stdout",
     "output_type": "stream",
     "text": [
      "Precisão do algoritmo: 86.000000 %\n"
     ]
    }
   ],
   "source": [
    "precisao = nltk.classify.accuracy(classificador, basecompletaTeste) * 100\n",
    "print(\"Precisão do algoritmo: %f %%\" % precisao)"
   ]
  },
  {
   "cell_type": "markdown",
   "metadata": {},
   "source": [
    "Gerando e imprimindo a matiz de confusão"
   ]
  },
  {
   "cell_type": "code",
   "execution_count": 112,
   "metadata": {},
   "outputs": [
    {
     "name": "stdout",
     "output_type": "stream",
     "text": [
      "         |  n  p |\n",
      "         |  e  o |\n",
      "         |  g  s |\n",
      "         |  a  i |\n",
      "         |  t  t |\n",
      "         |  i  i |\n",
      "         |  v  v |\n",
      "         |  a  a |\n",
      "---------+-------+\n",
      "negativa |<23> 2 |\n",
      "positiva |  5<20>|\n",
      "---------+-------+\n",
      "(row = reference; col = test)\n",
      "\n"
     ]
    }
   ],
   "source": [
    "from nltk.metrics import ConfusionMatrix\n",
    "esperado = []\n",
    "previsto = []\n",
    "for (frase, classe) in basecompletaTeste:\n",
    "\tresultado = classificador.classify(frase)\n",
    "\tprevisto.append(resultado)\n",
    "\tesperado.append(classe)\n",
    "\t\n",
    "matriz = ConfusionMatrix(esperado, previsto)\n",
    "print(matriz)"
   ]
  },
  {
   "cell_type": "markdown",
   "metadata": {},
   "source": [
    "Classificando uma frase teste. Ao aplicar no classificador, já realiza a remoção das stopwords."
   ]
  },
  {
   "cell_type": "code",
   "execution_count": 116,
   "metadata": {},
   "outputs": [
    {
     "name": "stdout",
     "output_type": "stream",
     "text": [
      "Frase teste: O único porém são os banheiros, mau cheirosos\n",
      "Stemming: ['o', 'únic', 'porém', 'são', 'os', 'banheiros,', 'mau', 'cheir']\n",
      "Sentimento: negativa\n",
      "positiva: 26.101569%\n",
      "negativa: 73.898431%\n"
     ]
    }
   ],
   "source": [
    "teste = 'O único porém são os banheiros, mau cheirosos'\n",
    "print(\"Frase teste: %s\" % teste)\n",
    "testestemming = []\n",
    "stemmer = nltk.stem.RSLPStemmer()\n",
    "for (palavras) in teste.split():\n",
    "\tcomstem = [p for p in palavras.split()]\n",
    "\ttestestemming.append(str(stemmer.stem(comstem[0])))\n",
    "print(\"Stemming: %s\" %testestemming)\n",
    "\n",
    "novo = extratorpalavras(testestemming)\n",
    "#print(novo)\n",
    "\n",
    "print(\"Sentimento: %s\" % classificador.classify(novo))\n",
    "\n",
    "distribuicao = classificador.prob_classify(novo)\n",
    "for classe in distribuicao.samples():\n",
    "    print(\"%s: %f%%\" % (classe, distribuicao.prob(classe)*100))"
   ]
  },
  {
   "cell_type": "code",
   "execution_count": null,
   "metadata": {},
   "outputs": [],
   "source": []
  },
  {
   "cell_type": "code",
   "execution_count": null,
   "metadata": {},
   "outputs": [],
   "source": []
  },
  {
   "cell_type": "code",
   "execution_count": null,
   "metadata": {},
   "outputs": [],
   "source": []
  }
 ],
 "metadata": {
  "kernelspec": {
   "display_name": "Python 3",
   "language": "python",
   "name": "python3"
  },
  "language_info": {
   "codemirror_mode": {
    "name": "ipython",
    "version": 3
   },
   "file_extension": ".py",
   "mimetype": "text/x-python",
   "name": "python",
   "nbconvert_exporter": "python",
   "pygments_lexer": "ipython3",
   "version": "3.7.0"
  }
 },
 "nbformat": 4,
 "nbformat_minor": 2
}
